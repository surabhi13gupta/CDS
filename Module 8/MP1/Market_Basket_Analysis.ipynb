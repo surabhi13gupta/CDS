{
  "nbformat": 4,
  "nbformat_minor": 5,
  "metadata": {
    "kernelspec": {
      "display_name": "Python 3",
      "language": "python",
      "name": "python3"
    },
    "language_info": {
      "codemirror_mode": {
        "name": "ipython",
        "version": 3
      },
      "file_extension": ".py",
      "mimetype": "text/x-python",
      "name": "python",
      "nbconvert_exporter": "python",
      "pygments_lexer": "ipython3",
      "version": "3.6.7rc1"
    },
    "colab": {
      "provenance": [],
      "include_colab_link": true
    }
  },
  "cells": [
    {
      "cell_type": "markdown",
      "metadata": {
        "id": "view-in-github",
        "colab_type": "text"
      },
      "source": [
        "<a href=\"https://colab.research.google.com/github/surabhi13gupta/CDS/blob/main/Module%208/MP1/Market_Basket_Analysis.ipynb\" target=\"_parent\"><img src=\"https://colab.research.google.com/assets/colab-badge.svg\" alt=\"Open In Colab\"/></a>"
      ]
    },
    {
      "cell_type": "markdown",
      "metadata": {
        "id": "human-status"
      },
      "source": [
        "# Advanced Certification Program in Computational Data Science\n",
        "\n",
        "##  A program by IISc and TalentSprint\n",
        "\n",
        "### Mini Project 1: Market Basket analysis"
      ],
      "id": "human-status"
    },
    {
      "cell_type": "markdown",
      "metadata": {
        "id": "realistic-daniel"
      },
      "source": [
        "## Learning Objectives"
      ],
      "id": "realistic-daniel"
    },
    {
      "cell_type": "markdown",
      "metadata": {
        "id": "strong-yellow"
      },
      "source": [
        "At the end of the experiment, you will be able to:\n",
        "\n",
        "* extract summary level insight from a given dataset\n",
        "\n",
        "* Integrate the data and identify the underlying pattern or structure\n",
        "\n",
        "* understand the fundamentals of market basket analysis\n",
        "\n",
        "* construct \"rules\" that provide concrete recommendations for businesses"
      ],
      "id": "strong-yellow"
    },
    {
      "cell_type": "markdown",
      "metadata": {
        "id": "acknowledged-world"
      },
      "source": [
        "## Dataset"
      ],
      "id": "acknowledged-world"
    },
    {
      "cell_type": "markdown",
      "metadata": {
        "id": "short-spank"
      },
      "source": [
        "The dataset chosen for this mini project is **Instacart Dataset**. The dataset is anonymized and contains a sample of over 3 million grocery orders from more than 200,000 Instacart users. For each user, there are orders between 4 and 100, with the sequence of products purchased in each order. The dataset also includes the products in each order, the time of day and day of week of each order, the name and aisle/department of each product, which are stored across various files."
      ],
      "id": "short-spank"
    },
    {
      "cell_type": "markdown",
      "metadata": {
        "id": "altered-finish"
      },
      "source": [
        "## Problem Statement"
      ],
      "id": "altered-finish"
    },
    {
      "cell_type": "markdown",
      "metadata": {
        "id": "running-shade"
      },
      "source": [
        "\n",
        "Extract association rules and find groups of frequently purchased items from a large-scale grocery orders dataset."
      ],
      "id": "running-shade"
    },
    {
      "cell_type": "markdown",
      "metadata": {
        "id": "ndQNKsjS7c04"
      },
      "source": [
        "## Grading = 10 Points"
      ],
      "id": "ndQNKsjS7c04"
    },
    {
      "cell_type": "markdown",
      "metadata": {
        "id": "removed-quarter"
      },
      "source": [
        "#### Import required packages"
      ],
      "id": "removed-quarter"
    },
    {
      "cell_type": "code",
      "metadata": {
        "id": "convenient-arkansas"
      },
      "source": [
        "import numpy as np\n",
        "import pandas as pd\n",
        "import seaborn as sns\n",
        "from matplotlib import pyplot as plt\n",
        "from mlxtend.frequent_patterns import apriori\n",
        "from mlxtend.frequent_patterns import association_rules"
      ],
      "id": "convenient-arkansas",
      "execution_count": 1,
      "outputs": []
    },
    {
      "cell_type": "markdown",
      "metadata": {
        "id": "abandoned-workstation"
      },
      "source": [
        "## **Stage 1**: Data Wrangling"
      ],
      "id": "abandoned-workstation"
    },
    {
      "cell_type": "markdown",
      "metadata": {
        "id": "adjusted-excess"
      },
      "source": [
        "We have five different files:\n",
        "\n",
        "    - orders.csv\n",
        "    - order_products__train.csv\n",
        "    - products.csv\n",
        "    - aisles.csv\n",
        "    - departments.csv\n",
        "\n",
        "These files contain the neccesary data to solve the problem. Load all the files correctly, after observing the header level details, data records etc\n",
        "\n",
        "**Hint:** Use `read_csv` from pandas"
      ],
      "id": "adjusted-excess"
    },
    {
      "cell_type": "code",
      "metadata": {
        "id": "radical-italic"
      },
      "source": [
        "#@title Download the data\n",
        "!wget -qq https://cdn.iisc.talentsprint.com/CDS/Datasets/Instacart.zip\n",
        "!unzip -qq Instacart.zip"
      ],
      "id": "radical-italic",
      "execution_count": 2,
      "outputs": []
    },
    {
      "cell_type": "markdown",
      "metadata": {
        "id": "smooth-yesterday"
      },
      "source": [
        "### Load the data\n",
        "\n",
        "Load all the given datasets"
      ],
      "id": "smooth-yesterday"
    },
    {
      "cell_type": "code",
      "metadata": {
        "id": "listed-apartment"
      },
      "source": [
        "# YOUR CODE HERE\n",
        "orders = pd.read_csv(\"/content/Instacart/orders.csv\")\n",
        "order_products__train = pd.read_csv(\"/content/Instacart/order_products__train.csv\")\n",
        "products = pd.read_csv(\"/content/Instacart/products.csv\")\n",
        "aisles = pd.read_csv(\"/content/Instacart/aisles.csv\")\n",
        "departments = pd.read_csv(\"/content/Instacart/departments.csv\")"
      ],
      "id": "listed-apartment",
      "execution_count": 4,
      "outputs": []
    },
    {
      "cell_type": "markdown",
      "metadata": {
        "id": "aggregate-baptist"
      },
      "source": [
        "### Data Integration (1 point)"
      ],
      "id": "aggregate-baptist"
    },
    {
      "cell_type": "markdown",
      "metadata": {
        "id": "sporting-fraction"
      },
      "source": [
        "As the required data is present in different files, we need to integrate all the five to make single dataframe/dataset. For that purpose, use the unique identifier provided in all the dataframes so that it can be used to map the data in different files correctly.\n",
        "\n",
        "**Example:** `product_id` is available in both `products` dataframe and `order_products__train` dataframe, we can merge these two into a single dataframe based on `product_id`\n",
        "\n",
        "**Hint:** [pd.merge](https://pandas.pydata.org/pandas-docs/stable/reference/api/pandas.DataFrame.merge.html)"
      ],
      "id": "sporting-fraction"
    },
    {
      "cell_type": "code",
      "metadata": {
        "id": "residential-relief"
      },
      "source": [
        "# YOUR CODE HERE"
      ],
      "id": "residential-relief",
      "execution_count": null,
      "outputs": []
    },
    {
      "cell_type": "markdown",
      "metadata": {
        "id": "faced-tomato"
      },
      "source": [
        "### Understanding relationships and new insights from the data (3 points)"
      ],
      "id": "faced-tomato"
    },
    {
      "cell_type": "markdown",
      "metadata": {
        "id": "mathematical-provision"
      },
      "source": [
        "1.  How many times was each product ordered?\n",
        "\n",
        "    **Hint:** group orders by product\n",
        "    \n",
        "\n",
        "2.  Find the number of orders per department and visualize using an appropriate plot\n",
        "\n",
        "\n",
        "3.  On which day of the week do customers tend to buy more groceries? Which are the peak hours\n",
        "of shopping?\n",
        "\n",
        "  * Find the frequency of orders on week days using an appropriate plot\n",
        "  * Find the frequency of orders during hours of the day using an appropriate plot?\n",
        "  \n",
        "\n",
        "4. Find the ratio of Re-ordered and Not Re-ordered products and visualize it\n",
        "\n",
        "5. Plot the heatmap of Re-order ratio of the Day of week vs Hour of day"
      ],
      "id": "mathematical-provision"
    },
    {
      "cell_type": "code",
      "metadata": {
        "id": "alone-skill"
      },
      "source": [
        "# YOUR CODE HERE"
      ],
      "id": "alone-skill",
      "execution_count": null,
      "outputs": []
    },
    {
      "cell_type": "markdown",
      "metadata": {
        "id": "dangerous-rendering"
      },
      "source": [
        "## **Stage 2:** Create a basket (4 points)"
      ],
      "id": "dangerous-rendering"
    },
    {
      "cell_type": "markdown",
      "metadata": {
        "id": "italian-guinea"
      },
      "source": [
        "As the dataset contains huge amount of data, let us take a subset of the data to extract the association rules from it.\n",
        "\n",
        "**Assumption:** Segment the data by considering the 100 most frequent ordered items. Please note it is just an assumption. You can consider 'n' frequent order items as per your choice.\n",
        "\n",
        "**Hint:**\n",
        "\n",
        "- Drop the unwanted columns\n",
        "\n",
        "- Find the frequencies of orders based on the products and  consider the 100 most frequent order items.\n",
        "\n",
        "    **Hint:** Count the frequencies of orders for each product_id using `groupby()` and `count()` respectively\n",
        "\n",
        "- Extract the records of 100 most frequent items (which are extracted in previous step) from combined dataframe.\n",
        "\n",
        "- Create a Pivot table with `order_id` as index and `product_name` as columns and `reorder` as values.\n",
        "\n",
        "    - set the `order_id` as index using set_index()\n",
        "    - fill all the nan values with 0\n",
        "\n",
        "- After performing the above step, there are a lot of zeros in the data, make sure that any positive values are converted to a 1 and anything less than 0 is set to 0.\n"
      ],
      "id": "italian-guinea"
    },
    {
      "cell_type": "code",
      "metadata": {
        "id": "described-linux"
      },
      "source": [
        "# YOUR CODE HERE"
      ],
      "id": "described-linux",
      "execution_count": null,
      "outputs": []
    },
    {
      "cell_type": "markdown",
      "metadata": {
        "id": "rX-dygtTk1aX"
      },
      "source": [
        "## **Stage 3:** Apply Apriori algorithm (2 points)"
      ],
      "id": "rX-dygtTk1aX"
    },
    {
      "cell_type": "markdown",
      "metadata": {
        "id": "portable-dutch"
      },
      "source": [
        "- As the dataset contains huge amount of data, let us take a subset of the data to extract the association rules from it.\n",
        "\n",
        "  **Assumption:** Segment the basket by considering 100000 records. Please note its just an assumption, you can consider 'n'  records as per your choice.\n",
        "\n",
        "  **Hint:** [apriori](http://rasbt.github.io/mlxtend/api_subpackages/mlxtend.frequent_patterns/)\n",
        "\n",
        "- Find the association rules and make a dataframe"
      ],
      "id": "portable-dutch"
    },
    {
      "cell_type": "code",
      "metadata": {
        "id": "brutal-superior"
      },
      "source": [
        "# YOUR CODE HERE"
      ],
      "id": "brutal-superior",
      "execution_count": null,
      "outputs": []
    }
  ]
}